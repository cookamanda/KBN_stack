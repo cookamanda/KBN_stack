{
 "cells": [
  {
   "cell_type": "markdown",
   "id": "31d09ee2-da47-4ef8-bb26-25229a99c01b",
   "metadata": {},
   "source": [
    "Make a waterfall plot of extracted bursts"
   ]
  },
  {
   "cell_type": "code",
   "execution_count": 22,
   "id": "277b08a0-f83a-438a-9be5-046da1adee74",
   "metadata": {},
   "outputs": [],
   "source": [
    "from sigpyproc.readers import FilReader\n",
    "import matplotlib.pyplot as plt\n",
    "import numpy as np\n",
    "\n",
    "filpath = \"/media/thomas/MARS7/CHIME/R117/R117_59880_pow_burst_extract.fil\"\n",
    "fil = FilReader(filpath).read_block(start=1, nsamps=24429)"
   ]
  },
  {
   "cell_type": "code",
   "execution_count": 31,
   "id": "90f20f44-67a2-4b71-b039-7c6adbb81b2e",
   "metadata": {},
   "outputs": [
    {
     "name": "stdout",
     "output_type": "stream",
     "text": [
      "[[ 25.  22.  23. ... 105. 105. 104.]\n",
      " [ 25.  22.  23. ... 105. 105. 104.]\n",
      " [ 25.  22.  23. ... 105. 105. 104.]\n",
      " ...\n",
      " [  0.   0.   0. ...   0.   0.   0.]\n",
      " [  0.   0.   0. ...   0.   0.   0.]\n",
      " [  0.   0.   0. ...   0.   0.   0.]]\n",
      "(1024, 24429)\n"
     ]
    }
   ],
   "source": [
    "print(fil)\n",
    "print(np.shape(fil))"
   ]
  },
  {
   "cell_type": "code",
   "execution_count": 30,
   "id": "d354c4b8-b5c1-476a-8b9c-36b7690de865",
   "metadata": {},
   "outputs": [
    {
     "data": {
      "image/png": "[encoded data removed]",
      "text/plain": [
       "<Figure size 1800x720 with 1 Axes>"
      ]
     },
     "metadata": {
      "needs_background": "light"
     },
     "output_type": "display_data"
    }
   ],
   "source": [
    "plt.figure(figsize=(25, 10))\n",
    "plt.imshow(fil)\n",
    "#plt.xlim(0, 5000)\n",
    "\n",
    "plt.show()"
   ]
  },
  {
   "cell_type": "code",
   "execution_count": null,
   "id": "1557dafc-6338-4d11-9a43-ce41deaf038a",
   "metadata": {},
   "outputs": [],
   "source": []
  },
  {
   "cell_type": "code",
   "execution_count": null,
   "id": "5eb1c7cd-763e-498c-bb1b-ed67ef42cc63",
   "metadata": {},
   "outputs": [],
   "source": []
  }
 ],
 "metadata": {
  "kernelspec": {
   "display_name": "Python 3 (ipykernel)",
   "language": "python",
   "name": "python3"
  },
  "language_info": {
   "codemirror_mode": {
    "name": "ipython",
    "version": 3
   },
   "file_extension": ".py",
   "mimetype": "text/x-python",
   "name": "python",
   "nbconvert_exporter": "python",
   "pygments_lexer": "ipython3",
   "version": "3.10.12"
  }
 },
 "nbformat": 4,
 "nbformat_minor": 5
}
